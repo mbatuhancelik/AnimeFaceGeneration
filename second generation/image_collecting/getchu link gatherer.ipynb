{
 "metadata": {
  "language_info": {
   "codemirror_mode": {
    "name": "ipython",
    "version": 3
   },
   "file_extension": ".py",
   "mimetype": "text/x-python",
   "name": "python",
   "nbconvert_exporter": "python",
   "pygments_lexer": "ipython3",
   "version": "3.8.5-final"
  },
  "orig_nbformat": 2,
  "kernelspec": {
   "name": "python_defaultSpec_1599134094110",
   "display_name": "Python 3.8.5 64-bit"
  }
 },
 "nbformat": 4,
 "nbformat_minor": 2,
 "cells": [
  {
   "cell_type": "code",
   "execution_count": 3,
   "metadata": {},
   "outputs": [],
   "source": [
    "import selenium \n",
    "import os\n",
    "from selenium import webdriver\n",
    "os.add_dll_directory(\"F:\\messy code\\image grabber\")\n",
    "wd = webdriver.Chrome()"
   ]
  },
  {
   "cell_type": "code",
   "execution_count": 4,
   "metadata": {},
   "outputs": [],
   "source": [
    "wd.get('http://erogamescape.dyndns.org/~ap2/ero/toukei_kaiseki/sql_for_erogamer_form.php')"
   ]
  },
  {
   "cell_type": "code",
   "execution_count": 5,
   "metadata": {
    "tags": []
   },
   "outputs": [
    {
     "output_type": "stream",
     "name": "stdout",
     "text": "30\n"
    }
   ],
   "source": [
    "from selenium.webdriver.common.by import By\n",
    "area = wd.find_element_by_name(\"sql\")\n",
    "print(area.get_attribute('rows'))"
   ]
  },
  {
   "cell_type": "code",
   "execution_count": 6,
   "metadata": {},
   "outputs": [],
   "source": [
    "area.clear()\n",
    "area.send_keys(\"SELECT 'www.getchu.com/soft.phtml?id=' || g.comike as links , g . sellday, g . comike as links\\nFROM gamelist g\\nWHERE g . comike is NOT NULL\\nORDER\\nBY g. sellday\")"
   ]
  },
  {
   "cell_type": "code",
   "execution_count": 7,
   "metadata": {
    "tags": []
   },
   "outputs": [
    {
     "output_type": "stream",
     "name": "stdout",
     "text": "<selenium.webdriver.remote.webelement.WebElement (session=\"eb50d6af8c12df1dbee520f69d3b629d\", element=\"7d1a5043-76d5-4fdb-8d2b-d492ff8a2adc\")>\n"
    }
   ],
   "source": [
    " button = wd.find_element(By.XPATH,\"//input\")\n",
    " print(button)\n",
    " button.click()"
   ]
  },
  {
   "cell_type": "code",
   "execution_count": 8,
   "metadata": {},
   "outputs": [],
   "source": [
    "from bs4 import BeautifulSoup\n",
    "soup = BeautifulSoup(wd.page_source,\"html.parser\")"
   ]
  },
  {
   "cell_type": "code",
   "execution_count": 44,
   "metadata": {
    "tags": []
   },
   "outputs": [],
   "source": [
    "def tr_to_td(tr):\n",
    "    soup = BeautifulSoup(str(tr) ,\"html.parser\")\n",
    "    tds = soup.find_all('td')\n",
    "    link, date, id = tds[0] , tds[1] , tds[2]\n",
    "    return 'http://'+link.get_text() + 'gc&gc=gc', date.get_text()[:4], id.get_text()"
   ]
  },
  {
   "cell_type": "code",
   "execution_count": 45,
   "metadata": {},
   "outputs": [],
   "source": [
    "data_file = open('./getchu/data.txt', 'w')\n",
    "trs = soup.find_all('tr')\n",
    "trs = trs[1:]"
   ]
  },
  {
   "cell_type": "code",
   "execution_count": 46,
   "metadata": {
    "tags": []
   },
   "outputs": [
    {
     "output_type": "execute_result",
     "data": {
      "text/plain": "815147"
     },
     "metadata": {},
     "execution_count": 46
    }
   ],
   "source": [
    "lines = ''\n",
    "for tr in trs:\n",
    "    data = tr_to_td(tr)\n",
    "    line = data[0] +'\\t'+ data[2] +'\\t'+ data[1] + '\\n'\n",
    "    lines += line\n",
    "data_file.write(lines)"
   ]
  },
  {
   "cell_type": "code",
   "execution_count": 31,
   "metadata": {
    "tags": []
   },
   "outputs": [
    {
     "output_type": "execute_result",
     "data": {
      "text/plain": "<tr><th>links</th><th>sellday</th><th>links</th></tr>"
     },
     "metadata": {},
     "execution_count": 31
    }
   ],
   "source": [
    "trs[0]"
   ]
  },
  {
   "cell_type": "code",
   "execution_count": 41,
   "metadata": {},
   "outputs": [
    {
     "output_type": "execute_result",
     "data": {
      "text/plain": "13101"
     },
     "metadata": {},
     "execution_count": 41
    }
   ],
   "source": [
    "len(trs)"
   ]
  },
  {
   "cell_type": "code",
   "execution_count": null,
   "metadata": {},
   "outputs": [],
   "source": []
  }
 ]
}
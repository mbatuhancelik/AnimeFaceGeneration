{
 "cells": [
  {
   "cell_type": "code",
   "execution_count": 1,
   "metadata": {},
   "outputs": [],
   "source": [
    "import tensorflow as tf"
   ]
  },
  {
   "cell_type": "code",
   "execution_count": 2,
   "metadata": {
    "tags": []
   },
   "outputs": [],
   "source": [
    "import sys \n",
    "sys.path.insert(0, 'F:\\messy code\\\\afg ordered\\second generation')\n",
    "import data"
   ]
  },
  {
   "cell_type": "code",
   "execution_count": 3,
   "metadata": {},
   "outputs": [],
   "source": [
    "def list_with_features(img_dir , feature_dir ):\n",
    "    img_paths = data.dir_to_list(img_dir)\n",
    "    img_and_feature = []\n",
    "    for path in img_paths: \n",
    "        name = data.path_to_name(path)\n",
    "        feature_path = '{}/{}_{}'.format(feature_dir,name,'feature.npy' )\n",
    "        img_and_feature.append((path , feature_path))\n",
    "    return img_and_feature"
   ]
  },
  {
   "cell_type": "code",
   "execution_count": 4,
   "metadata": {},
   "outputs": [],
   "source": [
    "from PIL import Image\n",
    "import numpy as np\n",
    "import random\n",
    "def load(img_dir , feature_dir):\n",
    "    img_and_feature = list_with_features(img_dir , feature_dir)\n",
    "    img_and_feature = random.sample(img_and_feature , 5)\n",
    "    imgs = []\n",
    "    features = []\n",
    "    remaining = int(len(img_and_feature))\n",
    "    print('{} will be loaded'.format(remaining))\n",
    "    for img in img_and_feature: \n",
    "        print('{} remaing'.format(remaining))\n",
    "        img_path = img[0]\n",
    "        feature_path = img[1]\n",
    "        \n",
    "        img = Image.open(img_path)\n",
    "        img = img.resize((128,128))\n",
    "        img = np.asarray(img)\n",
    "        imgs.append(img)\n",
    "\n",
    "        feature = np.load(feature_path,allow_pickle = True)\n",
    "        features.append(feature)\n",
    "        remaining -= 1\n",
    "\n",
    "    return imgs , features"
   ]
  },
  {
   "cell_type": "code",
   "execution_count": 5,
   "metadata": {
    "tags": []
   },
   "outputs": [
    {
     "output_type": "stream",
     "name": "stdout",
     "text": "5 will be loaded\n5 remaing\n4 remaing\n3 remaing\n2 remaing\n1 remaing\n"
    }
   ],
   "source": [
    "imgs , ftrs = load('F:\\messy code\\\\afg ordered\\second generation\\\\faces' , 'F:\\messy code\\\\afg ordered\\second generation\\\\features')"
   ]
  },
  {
   "cell_type": "code",
   "execution_count": 6,
   "metadata": {},
   "outputs": [],
   "source": [
    "imgsnp = np.asarray(imgs)\n",
    "imgsnp = imgsnp /255"
   ]
  },
  {
   "cell_type": "code",
   "execution_count": 7,
   "metadata": {},
   "outputs": [
    {
     "output_type": "execute_result",
     "data": {
      "text/plain": "(5, 128, 128, 3)"
     },
     "metadata": {},
     "execution_count": 7
    }
   ],
   "source": [
    "imgsnp.shape"
   ]
  },
  {
   "cell_type": "code",
   "execution_count": 8,
   "metadata": {},
   "outputs": [],
   "source": [
    "featuresnp = np.asarray(ftrs)"
   ]
  },
  {
   "cell_type": "code",
   "execution_count": 9,
   "metadata": {},
   "outputs": [
    {
     "output_type": "execute_result",
     "data": {
      "text/plain": "(5, 1, 4096)"
     },
     "metadata": {},
     "execution_count": 9
    }
   ],
   "source": [
    "featuresnp.shape"
   ]
  },
  {
   "cell_type": "code",
   "execution_count": null,
   "metadata": {},
   "outputs": [],
   "source": []
  },
  {
   "cell_type": "code",
   "execution_count": 11,
   "metadata": {},
   "outputs": [],
   "source": [
    "dataset = tf.data.Dataset.from_tensor_slices((imgsnp, featuresnp))"
   ]
  },
  {
   "cell_type": "code",
   "execution_count": 12,
   "metadata": {},
   "outputs": [
    {
     "output_type": "execute_result",
     "data": {
      "text/plain": "(TensorSpec(shape=(128, 128, 3), dtype=tf.float64, name=None),\n TensorSpec(shape=(1, 4096), dtype=tf.float32, name=None))"
     },
     "metadata": {},
     "execution_count": 12
    }
   ],
   "source": [
    "dataset.element_spec"
   ]
  },
  {
   "cell_type": "code",
   "execution_count": 27,
   "metadata": {},
   "outputs": [
    {
     "data": {
      "text/plain": [
       "DatasetSpec((TensorSpec(shape=(128, 128, 3), dtype=tf.float64, name=None), TensorSpec(shape=(1, 4096), dtype=tf.float32, name=None)), TensorShape([]))"
      ]
     },
     "execution_count": 27,
     "metadata": {},
     "output_type": "execute_result"
    }
   ],
   "source": [
    "tf.data.DatasetSpec.from_value(dataset)"
   ]
  },
  {
   "cell_type": "code",
   "execution_count": 16,
   "metadata": {},
   "outputs": [],
   "source": [
    "#tf.data.experimental.save(dataset ,'F:\\messy code\\\\afg ordered\\second generation' , compression = 'GZIP')"
   ]
  },
  {
   "cell_type": "code",
   "execution_count": null,
   "metadata": {},
   "outputs": [],
   "source": []
  }
 ],
 "metadata": {
  "kernelspec": {
   "display_name": "Python 3.8.5 64-bit",
   "language": "python",
   "name": "python_defaultSpec_1600172131082"
  },
  "language_info": {
   "codemirror_mode": {
    "name": "ipython",
    "version": 3
   },
   "file_extension": ".py",
   "mimetype": "text/x-python",
   "name": "python",
   "nbconvert_exporter": "python",
   "pygments_lexer": "ipython3",
   "version": "3.8.5-final"
  }
 },
 "nbformat": 4,
 "nbformat_minor": 2
}
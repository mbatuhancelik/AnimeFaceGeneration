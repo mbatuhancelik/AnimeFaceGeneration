{
 "metadata": {
  "language_info": {
   "codemirror_mode": {
    "name": "ipython",
    "version": 3
   },
   "file_extension": ".py",
   "mimetype": "text/x-python",
   "name": "python",
   "nbconvert_exporter": "python",
   "pygments_lexer": "ipython3",
   "version": "3.8.5-final"
  },
  "orig_nbformat": 2,
  "kernelspec": {
   "name": "python_defaultSpec_1599735869939",
   "display_name": "Python 3.8.5 64-bit"
  }
 },
 "nbformat": 4,
 "nbformat_minor": 2,
 "cells": [
  {
   "cell_type": "code",
   "execution_count": 2,
   "metadata": {},
   "outputs": [
    {
     "output_type": "execute_result",
     "data": {
      "text/plain": "<AddedDllDirectory('C:\\\\Program Files\\\\NVIDIA Corporation\\\\Nsight Compute 2019.4.0')>"
     },
     "metadata": {},
     "execution_count": 2
    }
   ],
   "source": [
    "import os\n",
    "os.add_dll_directory(\"C:\\Program Files\\\\NVIDIA GPU Computing Toolkit\\CUDA\\\\v10.1\\\\bin\")\n",
    "os.add_dll_directory(\"C:\\Program Files\\\\NVIDIA GPU Computing Toolkit\\CUDA\\\\v10.1\\libnvvp\")\n",
    "os.add_dll_directory(\"C:\\Program Files\\\\NVIDIA GPU Computing Toolkit\\CUDA\\\\v10.1\")\n",
    "os.add_dll_directory(\"C:\\Program Files\\\\NVIDIA GPU Computing Toolkit\\CUDA\\\\v10.1\\extras\\CUPTI\\lib64\")\n",
    "os.add_dll_directory(\"C:\\Program Files\\\\NVIDIA GPU Computing Toolkit\\CUDA\\\\v10.1\\include\")\n",
    "os.add_dll_directory(\"C:\\Program Files\\\\NVIDIA Corporation\\\\Nsight Compute 2019.4.0\")"
   ]
  },
  {
   "cell_type": "code",
   "execution_count": 4,
   "metadata": {},
   "outputs": [],
   "source": [
    "import numpy as np\n",
    "import os\n",
    "import PIL\n",
    "import PIL.Image\n",
    "import tensorflow as tf\n",
    "import tensorflow_datasets as tfds\n",
    "from tensorflow.keras import layers\n",
    "import matplotlib.pyplot as plt\n",
    "import imageio\n",
    "import glob\n",
    "import time\n",
    "from IPython import display"
   ]
  },
  {
   "cell_type": "code",
   "execution_count": 7,
   "metadata": {
    "tags": []
   },
   "outputs": [
    {
     "output_type": "execute_result",
     "data": {
      "text/plain": "[name: \"/device:CPU:0\"\n device_type: \"CPU\"\n memory_limit: 268435456\n locality {\n }\n incarnation: 9516936857994429851,\n name: \"/device:XLA_CPU:0\"\n device_type: \"XLA_CPU\"\n memory_limit: 17179869184\n locality {\n }\n incarnation: 2779383261735621085\n physical_device_desc: \"device: XLA_CPU device\",\n name: \"/device:GPU:0\"\n device_type: \"GPU\"\n memory_limit: 4817616896\n locality {\n   bus_id: 1\n   links {\n   }\n }\n incarnation: 17894886466707935446\n physical_device_desc: \"device: 0, name: GeForce RTX 2060, pci bus id: 0000:01:00.0, compute capability: 7.5\",\n name: \"/device:XLA_GPU:0\"\n device_type: \"XLA_GPU\"\n memory_limit: 17179869184\n locality {\n }\n incarnation: 7874143382671994158\n physical_device_desc: \"device: XLA_GPU device\"]"
     },
     "metadata": {},
     "execution_count": 7
    }
   ],
   "source": [
    "from tensorflow.python.client import device_lib\n",
    "device_lib.list_local_devices()"
   ]
  },
  {
   "cell_type": "code",
   "execution_count": null,
   "metadata": {},
   "outputs": [],
   "source": [
    "batch_size=128\n",
    "image_size=(128, 128)\n",
    "noise_dim = 300\n",
    "\n",
    "train_ds = tf.keras.preprocessing.image_dataset_from_directory(\n",
    "  \"F:\\messy code\\Anime Face Generation 128x128\\\\2xzoom\\\\faces\",\n",
    "  image_size= image_size,\n",
    "  label_mode=None,\n",
    "  batch_size= batch_size)"
   ]
  }
 ]
}